{
  "nbformat": 4,
  "nbformat_minor": 0,
  "metadata": {
    "colab": {
      "name": "SoilParameters.ipynb",
      "provenance": [],
      "collapsed_sections": []
    },
    "kernelspec": {
      "name": "python3",
      "display_name": "Python 3"
    },
    "language_info": {
      "name": "python"
    }
  },
  "cells": [
    {
      "cell_type": "code",
      "execution_count": null,
      "metadata": {
        "id": "LJII-olCaCgx"
      },
      "outputs": [],
      "source": [
        "import numpy as np\n",
        "import netCDF4 as nc\n",
        "import pandas as pd\n",
        "import math\n",
        "from ast import literal_eval\n",
        "from tabulate import tabulate\n",
        "import os"
      ]
    },
    {
      "cell_type": "code",
      "source": [
        "soil_dir = '/content/drive/MyDrive/GHG Emissions Paddy Fields Project/Data/soil'\n",
        "s_bulk_den = nc.Dataset(soil_dir + '/' + 'S_BULK_DEN.nc4')\n",
        "t_bulk_den = nc.Dataset(soil_dir + '/' + 'T_BULK_DEN.nc4')\n",
        "s_clay = nc.Dataset(soil_dir + '/' + 'S_CLAY.nc4')\n",
        "t_clay = nc.Dataset(soil_dir + '/' + 'T_CLAY.nc4')\n",
        "s_soc = nc.Dataset(soil_dir + '/' + 'S_OC.nc4')\n",
        "t_soc = nc.Dataset(soil_dir + '/' + 'T_OC.nc4')\n",
        "s_ph = nc.Dataset(soil_dir + '/' + 'S_PH_H2O.nc4')\n",
        "t_ph = nc.Dataset(soil_dir + '/' + 'T_PH_H2O.nc4')"
      ],
      "metadata": {
        "id": "rmxzmQnYaMiK"
      },
      "execution_count": null,
      "outputs": []
    },
    {
      "cell_type": "code",
      "source": [
        "thanjavur = pd.read_csv('/content/drive/MyDrive/GHG Emissions Paddy Fields Project/Data/thanjavur_rice_area.csv')"
      ],
      "metadata": {
        "id": "j4g64jgmD7d4"
      },
      "execution_count": null,
      "outputs": []
    },
    {
      "cell_type": "code",
      "source": [
        "def round_nearest(x, base):\n",
        "    return base * round(x/base)"
      ],
      "metadata": {
        "id": "7wgGJPgcLT82"
      },
      "execution_count": null,
      "outputs": []
    },
    {
      "cell_type": "code",
      "source": [
        "def index(bounds):\n",
        "  bounds = literal_eval(bounds)\n",
        "  lon_min_i = int((bounds[0]+180)/0.05)\n",
        "  lat_min_i = int((bounds[1]+90)/0.05)\n",
        "\n",
        "  return lon_min_i, lat_min_i, lon_min_i+1, lat_min_i+1"
      ],
      "metadata": {
        "id": "pJeLpVLMTKBH"
      },
      "execution_count": null,
      "outputs": []
    },
    {
      "cell_type": "code",
      "source": [
        "datasets = {'S_BULK_DEN': s_bulk_den, 'T_BULK_DEN': t_bulk_den, 'S_CLAY': s_clay, 'T_CLAY': t_clay,\n",
        "             'S_OC': s_soc, 'T_OC': t_soc, 'S_PH_H2O': s_ph, 'T_PH_H2O': t_ph}"
      ],
      "metadata": {
        "id": "tbflo3mD2zui"
      },
      "execution_count": null,
      "outputs": []
    },
    {
      "cell_type": "code",
      "source": [
        "for key, ds in datasets.items():\n",
        "  ds[key][:].data[ds[key][:].data == -1] = np.nan"
      ],
      "metadata": {
        "id": "i4ZF-H_Z0uNf"
      },
      "execution_count": null,
      "outputs": []
    },
    {
      "cell_type": "code",
      "source": [
        "def get_data(indices):\n",
        "  data = []\n",
        "  for key, ds in datasets.items():\n",
        "    data.append(ds[key][indices[1]:indices[3]+1, indices[0]:indices[2]+1].data)\n",
        "  for e in data:\n",
        "    if (e.size ==0):\n",
        "      return -1, -1, -1, -1, -1, -1, -1, -1\n",
        "  bulk_den = np.mean([data[0], data[1]], axis = 0)\n",
        "  clay = np.mean([data[2], data[3]], axis = 0)\n",
        "  soc = np.mean([data[4], data[5]], axis = 0)\n",
        "  ph = np.mean([data[6], data[7]], axis = 0)\n",
        "  return np.max(bulk_den), np.min(bulk_den), np.max(clay), np.min(clay), np.max(soc), np.min(soc), np.max(ph), np.min(ph)"
      ],
      "metadata": {
        "id": "9g-6mytz1rUQ"
      },
      "execution_count": null,
      "outputs": []
    },
    {
      "cell_type": "code",
      "source": [
        "def df_cols(bounds):\n",
        "  return get_data(index(bounds))"
      ],
      "metadata": {
        "id": "Qw9tXEeDVtPP"
      },
      "execution_count": null,
      "outputs": []
    },
    {
      "cell_type": "code",
      "source": [
        "thanjavur['max_den'], thanjavur['min_den'], thanjavur['max_clay'], thanjavur['min_clay'], thanjavur['max_soc'], thanjavur['min_soc'], thanjavur['max_ph'], thanjavur['min_ph'] = zip(*thanjavur['coords'].map(df_cols))"
      ],
      "metadata": {
        "id": "HXWdqFdBU9qh"
      },
      "execution_count": null,
      "outputs": []
    },
    {
      "cell_type": "code",
      "source": [
        "thanjavur =  thanjavur.loc[:, thanjavur.columns != 'Unnamed: 0']"
      ],
      "metadata": {
        "id": "obgifQIaA49t"
      },
      "execution_count": null,
      "outputs": []
    },
    {
      "cell_type": "code",
      "source": [
        "cols = thanjavur.columns[1:]\n",
        "for col in cols:\n",
        "  thanjavur[col] = thanjavur[col].replace({-1:np.mean(thanjavur[col])})"
      ],
      "metadata": {
        "id": "jFyqgB1892x2"
      },
      "execution_count": null,
      "outputs": []
    },
    {
      "cell_type": "code",
      "source": [
        "thanjavur['min_clay'] = thanjavur['min_clay']/100\n",
        "thanjavur['max_clay'] = thanjavur['max_clay']/100\n",
        "thanjavur['min_soc'] = thanjavur['min_soc']/100\n",
        "thanjavur['max_soc'] = thanjavur['max_soc']/100"
      ],
      "metadata": {
        "id": "tRA5Hd_RCBj7"
      },
      "execution_count": null,
      "outputs": []
    },
    {
      "cell_type": "code",
      "source": [
        "thanjavur['lon'] = thanjavur['coords'].apply(lambda x: literal_eval(x)[0])\n",
        "thanjavur['lat'] = thanjavur['coords'].apply(lambda x: literal_eval(x)[1])"
      ],
      "metadata": {
        "id": "0NRedh_7Fjab"
      },
      "execution_count": null,
      "outputs": []
    },
    {
      "cell_type": "code",
      "source": [
        "def round_down(num, divisor):\n",
        "      return \"{:.2f}\".format(num - (num%divisor))"
      ],
      "metadata": {
        "id": "szasacGDs9Gn"
      },
      "execution_count": null,
      "outputs": []
    },
    {
      "cell_type": "code",
      "source": [
        "thanjavur['lat_nearest'] = thanjavur['lat'].apply(lambda x: (round_down(x, 0.25)))\n",
        "thanjavur['lon_nearest'] = thanjavur['lon'].apply(lambda x: (round_down(x, 0.25)))\n",
        "thanjavur['climate_file'] = (thanjavur['lat_nearest'] + thanjavur['lon_nearest'])"
      ],
      "metadata": {
        "id": "GWtd9G7kIeZy"
      },
      "execution_count": null,
      "outputs": []
    },
    {
      "cell_type": "code",
      "source": [
        "thanjavur['climate_file'] = thanjavur['climate_file'].apply(lambda x: x.replace(\".\", \"\"))"
      ],
      "metadata": {
        "id": "tP6m-2_et8sB"
      },
      "execution_count": null,
      "outputs": []
    },
    {
      "cell_type": "code",
      "source": [
        "thanjavur['id'] = thanjavur.index + 1"
      ],
      "metadata": {
        "id": "jXghNirP35o_"
      },
      "execution_count": null,
      "outputs": []
    },
    {
      "cell_type": "code",
      "source": [
        "thanjavur['district'] = 'Thanjavur'"
      ],
      "metadata": {
        "id": "TSvn_9nFvtrN"
      },
      "execution_count": null,
      "outputs": []
    },
    {
      "cell_type": "code",
      "source": [
        "thanjavur['n_dep'] = 0"
      ],
      "metadata": {
        "id": "9WCssktEU3te"
      },
      "execution_count": null,
      "outputs": []
    },
    {
      "cell_type": "code",
      "source": [
        "climate_soil_df = thanjavur[['id', 'district', 'lon', 'lat', 'climate_file', 'n_dep', 'max_soc', 'min_soc', 'max_clay', 'min_clay', 'max_ph', 'min_ph', 'max_den', 'min_den']]"
      ],
      "metadata": {
        "id": "6z6qFZ04D_a4"
      },
      "execution_count": null,
      "outputs": []
    },
    {
      "cell_type": "code",
      "source": [
        "climate_soil_df[['slope', 'slainity_index', 'snow', 'column', 'row',' region']] = 0"
      ],
      "metadata": {
        "id": "W3vqDLJfNpBn"
      },
      "execution_count": null,
      "outputs": []
    },
    {
      "cell_type": "code",
      "source": [
        "def to_fwf(df, fname):\n",
        "    content = tabulate(df.values.tolist(), tablefmt=\"tsv\", showindex='never', numalign='left')\n",
        "    f = open(fname, \"w\")\n",
        "    f.write('General information of grid cells: location, climate station ID, and soil properies\\n')\n",
        "    f.write(f'20\\tCountry\\tCountry-name\\tLon\\tLat\\tClimate-file\\tN-dep\\tSOCmax\\tSOCmin\\tClaymax\\tClaymin\\tpHmax\\tpHmin\\tDensmax\\tDensmin\\tSlope\\tSalinityIndex\\tSnow\\tColumn\\tRow\\tRegion\\n')\n",
        "    f.write(f'20\\tCountry\\tCountry-name\\tLon\\tLat\\tClimate-file\\tN-dep\\tSOCmax\\tSOCmin\\tClaymax\\tClaymin\\tpHmax\\tpHmin\\tDensmax\\tDensmin\\tSlope\\tSalinityIndex\\tSnow\\tColumn\\tRow\\tRegion\\n')\n",
        "    f.write(content)\n",
        "    f.close()"
      ],
      "metadata": {
        "id": "Q_cOFC7ocLWB"
      },
      "execution_count": null,
      "outputs": []
    },
    {
      "cell_type": "code",
      "source": [
        "for dis in thanjavur.district.unique():\n",
        "  df = climate_soil_df[climate_soil_df['district'] == dis]\n",
        "  num_taluk = len(df)\n",
        "  newpath = f'/content/drive/MyDrive/GHG Emissions Paddy Fields Project/DNDC Input/{dis}'\n",
        "  if not os.path.exists(newpath):\n",
        "    os.makedirs(newpath)\n",
        "  to_fwf(df, f'/content/drive/MyDrive/GHG Emissions Paddy Fields Project/DNDC Input/{dis}/{dis}r_ClimateSoil.txt')"
      ],
      "metadata": {
        "id": "Qx5z4vIvNocd"
      },
      "execution_count": null,
      "outputs": []
    }
  ]
}