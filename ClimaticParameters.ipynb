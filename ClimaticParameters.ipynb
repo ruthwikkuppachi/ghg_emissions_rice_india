{
  "nbformat": 4,
  "nbformat_minor": 0,
  "metadata": {
    "colab": {
      "name": "ClimaticParameters.ipynb",
      "provenance": [],
      "collapsed_sections": []
    },
    "kernelspec": {
      "name": "python3",
      "display_name": "Python 3"
    },
    "language_info": {
      "name": "python"
    }
  },
  "cells": [
    {
      "cell_type": "code",
      "source": [
        "!pip install imdlib"
      ],
      "metadata": {
        "id": "V3PqIsTgMnN4"
      },
      "execution_count": null,
      "outputs": []
    },
    {
      "cell_type": "code",
      "execution_count": null,
      "metadata": {
        "id": "-iWbP0jPD6w7"
      },
      "outputs": [],
      "source": [
        "import imdlib as imd\n",
        "import numpy as np\n",
        "from scipy.spatial import distance\n",
        "import pandas as pd\n",
        "from tabulate import tabulate\n",
        "import itertools"
      ]
    },
    {
      "cell_type": "code",
      "source": [
        "file_dir = '/content/drive/MyDrive/GHG Emissions Paddy Fields Project/Data'"
      ],
      "metadata": {
        "id": "uv_1sLX0EEfL"
      },
      "execution_count": null,
      "outputs": []
    },
    {
      "cell_type": "markdown",
      "source": [
        "##Rainfall data\n",
        "- Units of rainfall: mm\n",
        "- Cell size: 0.25• X 0.25•\n",
        "- Latitude range: 6.5•N - 38.5•N\n",
        "- Longitude range: 66.5•E - 100.0•E\n",
        "- Grid size: 129 X 135 \n",
        "\n",
        "##Temperature data\n",
        "- Units of temperature: •C\n",
        "- Cell size: 1• X 1•\n",
        "- Latitude range: 7.5•N - 37.5•N\n",
        "- Longitude range: 67.5•E - 97.5•E\n",
        "- Grid size: 31 x 31\n"
      ],
      "metadata": {
        "id": "lFQAZkA-tnBu"
      }
    },
    {
      "cell_type": "code",
      "source": [
        "ds_rain = imd.open_data('rain', 2017, 2017,'yearwise', file_dir)\n",
        "ds_tmin = imd.open_data('tmin', 2017, 2017,'yearwise', file_dir)\n",
        "ds_tmax = imd.open_data('tmax', 2017, 2017,'yearwise', file_dir)"
      ],
      "metadata": {
        "id": "hCs5kQR_9G3S"
      },
      "execution_count": null,
      "outputs": []
    },
    {
      "cell_type": "code",
      "source": [
        "rainfall = ds_rain.get_xarray()['rain']"
      ],
      "metadata": {
        "id": "DmctdAs5saEJ"
      },
      "execution_count": null,
      "outputs": []
    },
    {
      "cell_type": "code",
      "source": [
        "skipped_rain = []\n",
        "rain_dfs = {}"
      ],
      "metadata": {
        "id": "3Sqxew6UyT31"
      },
      "execution_count": null,
      "outputs": []
    },
    {
      "cell_type": "code",
      "source": [
        "for cell in list(itertools.product(np.arange(0,129), np.arange(0,135))):\n",
        "  rain_array = rainfall[:, cell[0], cell[1]].data\n",
        "  if((rain_array == -999.0).sum() >= 180):\n",
        "    skipped_rain.append(cell)\n",
        "  else:\n",
        "    lat = str(6.5 + cell[0]*0.25)\n",
        "    lon = str(66.5 + cell[1]*0.25)\n",
        "    rain_df = pd.DataFrame(rain_array, columns=['rainfall'])\n",
        "    rain_dfs[f\"{lat}-{lon}\"] = rain_df"
      ],
      "metadata": {
        "id": "pPqYzVG6uhap"
      },
      "execution_count": null,
      "outputs": []
    },
    {
      "cell_type": "code",
      "source": [
        "max_temp = ds_tmax.get_xarray()['tmax']\n",
        "skipped_max_temp = []\n",
        "max_temp_dfs = {}"
      ],
      "metadata": {
        "id": "TCdXWCSmNqfM"
      },
      "execution_count": null,
      "outputs": []
    },
    {
      "cell_type": "code",
      "source": [
        "for cell in list(itertools.product(np.arange(0,31), np.arange(0,31))):\n",
        "  max_temp_array = max_temp[:, cell[0], cell[1]].data\n",
        "  if((max_temp_array >= 99.9).sum() >= 180):\n",
        "    skipped_max_temp.append(cell)\n",
        "  else:\n",
        "    lat = str(7.5 + cell[0])\n",
        "    lon = str(67.5 + cell[1])\n",
        "    max_temp_df = pd.DataFrame(max_temp_array, columns=['max_temp'])\n",
        "    max_temp_dfs[f\"{lat}-{lon}\"] = max_temp_df"
      ],
      "metadata": {
        "id": "J8YJt5_kN31A"
      },
      "execution_count": null,
      "outputs": []
    },
    {
      "cell_type": "code",
      "source": [
        "min_temp = ds_tmin.get_xarray()['tmin']\n",
        "skipped_min_temp = []\n",
        "min_temp_dfs = {}"
      ],
      "metadata": {
        "id": "SqtvTrvWTBUb"
      },
      "execution_count": null,
      "outputs": []
    },
    {
      "cell_type": "code",
      "source": [
        "for cell in list(itertools.product(np.arange(0,31), np.arange(0,31))):\n",
        "  min_temp_array = min_temp[:, cell[0], cell[1]].data\n",
        "  if((min_temp_array >= 99.9).sum() >= 180):\n",
        "    skipped_min_temp.append(cell)\n",
        "  else:\n",
        "    lat = str(7.5 + cell[0])\n",
        "    lon = str(67.5 + cell[1])\n",
        "    min_temp_df = pd.DataFrame(min_temp_array, columns=['min_temp'])\n",
        "    min_temp_dfs[f\"{lat}-{lon}\"] = min_temp_df"
      ],
      "metadata": {
        "id": "1BktjvhrTQFq"
      },
      "execution_count": null,
      "outputs": []
    },
    {
      "cell_type": "code",
      "source": [
        "temperature_dfs = {}"
      ],
      "metadata": {
        "id": "VUBsFdwJXsKt"
      },
      "execution_count": null,
      "outputs": []
    },
    {
      "cell_type": "code",
      "source": [
        "#Joining min and max temp dfs\n",
        "for key in max_temp_dfs.keys() & min_temp_dfs.keys():\n",
        "  temperature_dfs[key] = max_temp_dfs[key].join(min_temp_dfs[key])"
      ],
      "metadata": {
        "id": "Z9xUM75eWQX6"
      },
      "execution_count": null,
      "outputs": []
    },
    {
      "cell_type": "code",
      "source": [
        "def closest(lst, K):\n",
        "    return lst[min(range(len(lst)), key = lambda i: distance.euclidean(lst[i],K))]"
      ],
      "metadata": {
        "id": "BZESvjj-ciJ0"
      },
      "execution_count": null,
      "outputs": []
    },
    {
      "cell_type": "code",
      "source": [
        "temp_coords = []\n",
        "for key in temperature_dfs:\n",
        "      lat = float(key.split('-')[0])\n",
        "      lon =  float(key.split('-')[1])\n",
        "      temp_coords.append((lat, lon))"
      ],
      "metadata": {
        "id": "GEz9_UczdNbb"
      },
      "execution_count": null,
      "outputs": []
    },
    {
      "cell_type": "code",
      "source": [
        "climate_dfs = {}\n",
        "for key in rain_dfs:\n",
        "    lat = float(key.split('-')[0])\n",
        "    lon =  float(key.split('-')[1])\n",
        "    nearest_temp_df = closest(temp_coords, (lat, lon))\n",
        "    climate_dfs[f\"{key}_{nearest_temp_df[0]}-{nearest_temp_df[1]}\"] = rain_dfs[key].join(temperature_dfs[f\"{nearest_temp_df[0]}-{nearest_temp_df[1]}\"])"
      ],
      "metadata": {
        "id": "KEPHM1piYbaU"
      },
      "execution_count": null,
      "outputs": []
    },
    {
      "cell_type": "code",
      "source": [
        "def to_fwf(df, fname, name):\n",
        "    content = tabulate(df.values.tolist(), tablefmt=\"plain\", showindex='never', numalign='left')\n",
        "    f = open(fname, \"w\")\n",
        "    f.write(name+'\\n')\n",
        "    f.write(content)\n",
        "    f.close()"
      ],
      "metadata": {
        "id": "AzrPSCm0Rplg"
      },
      "execution_count": null,
      "outputs": []
    },
    {
      "cell_type": "code",
      "source": [
        "for key, df in climate_dfs.items():\n",
        "  df['index1'] = np.arange(1,366)\n",
        "  df = df[['index1', 'max_temp', 'min_temp', 'rainfall']]\n",
        "  to_fwf(df, f'/content/drive/MyDrive/GHG Emissions Paddy Fields Project/Climate Files/{key}.txt', key)"
      ],
      "metadata": {
        "id": "sEGxi3vrOnEd"
      },
      "execution_count": null,
      "outputs": []
    }
  ]
}